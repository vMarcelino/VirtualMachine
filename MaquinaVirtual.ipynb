{
 "cells": [
  {
   "cell_type": "markdown",
   "metadata": {},
   "source": [
    "# Maquina Virtual"
   ]
  },
  {
   "cell_type": "markdown",
   "metadata": {},
   "source": [
    "Este codigo implementa uma máquina virtual (interpretador) com cache para memória principal com as seguintes funcionalidades relacionadas a um set de instruções criado:\n",
    " - buscar\n",
    " - decodificar\n",
    " - executar"
   ]
  },
  {
   "cell_type": "markdown",
   "metadata": {},
   "source": [
    "Definimos o tamanho da arquitetura para 16 bits<br>\n",
    "O set de instruções criado possui dois tipos de instrução:<br>\n",
    "### Tipo 1: operações aritméticas\n",
    "`[tipo(4 bits)] | [end. reg 1(4 bits)] | [end. reg 2(4 bits)] | [end. reg Dest(4 bits)]`\n",
    "\n",
    "\n",
    "### Tipo 2: operações de **Load**, **Store** e **Set**\n",
    "`[tipo(4 bits)] | [end. reg(4 bits)] | [end. mem(8 bits)]`\n",
    "\n"
   ]
  },
  {
   "cell_type": "code",
   "execution_count": 1,
   "metadata": {},
   "outputs": [],
   "source": [
    "architecture = 16"
   ]
  },
  {
   "cell_type": "markdown",
   "metadata": {},
   "source": [
    "Cada codigo de instrução terá 4 bits "
   ]
  },
  {
   "cell_type": "code",
   "execution_count": 2,
   "metadata": {},
   "outputs": [],
   "source": [
    "op_size = 4"
   ]
  },
  {
   "cell_type": "markdown",
   "metadata": {},
   "source": [
    "Definimos 10 registradores e 256 espaços de memória do programa e inicializamos todos com 0"
   ]
  },
  {
   "cell_type": "code",
   "execution_count": 3,
   "metadata": {},
   "outputs": [],
   "source": [
    "register_count = 10\n",
    "registers = [0] * register_count\n",
    "\n",
    "program_memory_count = 256\n",
    "program_memory = [0] * program_memory_count"
   ]
  },
  {
   "cell_type": "markdown",
   "metadata": {},
   "source": [
    "Inicializa o program counter"
   ]
  },
  {
   "cell_type": "code",
   "execution_count": 4,
   "metadata": {},
   "outputs": [],
   "source": [
    "pc = 0"
   ]
  },
  {
   "cell_type": "markdown",
   "metadata": {},
   "source": [
    "Definimos as instruções e seus valores:"
   ]
  },
  {
   "cell_type": "code",
   "execution_count": 5,
   "metadata": {},
   "outputs": [],
   "source": [
    "instr_to_code = {'add'   : 1, # 0x01\n",
    "                 'sub'   : 2, # 0x02\n",
    "                 'store' : 3, # 0x03\n",
    "                 'load'  : 4, # 0x04\n",
    "                 'set'   : 5, # 0x05\n",
    "                 'exit'  : 0} # 0x00"
   ]
  },
  {
   "cell_type": "markdown",
   "metadata": {},
   "source": [
    "<br><br>\n",
    "## Funções ajudantes\n",
    "<br>Para ajudar, criamos um dicionário que faz o mapeamento contrário das instruções:"
   ]
  },
  {
   "cell_type": "code",
   "execution_count": 6,
   "metadata": {},
   "outputs": [],
   "source": [
    "code_to_instr = {v : k for k, v in instr_to_code.items()}"
   ]
  },
  {
   "cell_type": "markdown",
   "metadata": {},
   "source": [
    "Importamos uma biblioteca de manipulação de bits"
   ]
  },
  {
   "cell_type": "code",
   "execution_count": 7,
   "metadata": {},
   "outputs": [],
   "source": [
    "from bitarray import bitarray"
   ]
  },
  {
   "cell_type": "markdown",
   "metadata": {},
   "source": [
    "No bloco abaixo, criamos um decorador para nossas funções normais"
   ]
  },
  {
   "cell_type": "code",
   "execution_count": 8,
   "metadata": {},
   "outputs": [],
   "source": [
    "from functools import wraps\n",
    "def next_instruction_decorator(func):\n",
    "    @wraps(func)\n",
    "    def decorator(*args, **kwargs):\n",
    "        func(*args, **kwargs)\n",
    "        return pc + 1\n",
    "\n",
    "    return decorator"
   ]
  },
  {
   "cell_type": "markdown",
   "metadata": {},
   "source": [
    "Sua função é retornar sempre o valor do PC + 1 para funções que não possuem pulos (implementação futura)"
   ]
  },
  {
   "cell_type": "markdown",
   "metadata": {},
   "source": [
    "Criamos então algumas funções para ajudar durante a execução do programa:"
   ]
  },
  {
   "cell_type": "markdown",
   "metadata": {},
   "source": [
    "Uma para converter bytes para int"
   ]
  },
  {
   "cell_type": "code",
   "execution_count": 9,
   "metadata": {},
   "outputs": [],
   "source": [
    "def bytes_to_int(bs):\n",
    "    result = 0\n",
    "\n",
    "    for b in bs:\n",
    "        result = result * 256 + int(b)\n",
    "\n",
    "    return result"
   ]
  },
  {
   "cell_type": "markdown",
   "metadata": {},
   "source": [
    "Uma para converter um vetor de bits para int"
   ]
  },
  {
   "cell_type": "code",
   "execution_count": 10,
   "metadata": {},
   "outputs": [],
   "source": [
    "def bitarray_to_int(ba):\n",
    "    return bytes_to_int(ba.tobytes())"
   ]
  },
  {
   "cell_type": "markdown",
   "metadata": {},
   "source": [
    "Uma para preencher um vetor de bits incompleto para ficar múltiplo de 8 e pronto para ser convertido para bytes"
   ]
  },
  {
   "cell_type": "code",
   "execution_count": 11,
   "metadata": {},
   "outputs": [],
   "source": [
    "def fill_bitarray(ba):\n",
    "    ba.reverse()\n",
    "    ba.fill()\n",
    "    ba.reverse()\n",
    "    return ba"
   ]
  },
  {
   "cell_type": "markdown",
   "metadata": {},
   "source": [
    "Duas para quebrar os dados decodificados de acordo com o instruction set:<br>\n",
    "Para tipo 1"
   ]
  },
  {
   "cell_type": "code",
   "execution_count": 12,
   "metadata": {},
   "outputs": [],
   "source": [
    "def break_instr_arithmetic(instr_data):\n",
    "    return map(bitarray_to_int, map(fill_bitarray, [instr_data[:4], instr_data[4:8], instr_data[8:12]]))"
   ]
  },
  {
   "cell_type": "markdown",
   "metadata": {},
   "source": [
    "E para tipo 2"
   ]
  },
  {
   "cell_type": "code",
   "execution_count": 13,
   "metadata": {},
   "outputs": [],
   "source": [
    "def break_instr_memory_manip(instr_data):\n",
    "    return map(bitarray_to_int, map(fill_bitarray, [instr_data[:4], instr_data[4:12]]))"
   ]
  },
  {
   "cell_type": "markdown",
   "metadata": {},
   "source": [
    "Pronto, agora temos o basico para implementar nossa máquina virtual<br>\n",
    "<br>\n",
    "## Implementação das operações\n",
    "<br>\n",
    "A primeira instrução a ser implementada será ADD, que salva a soma dos registradores fonte no registrador de destino"
   ]
  },
  {
   "cell_type": "code",
   "execution_count": 14,
   "metadata": {},
   "outputs": [],
   "source": [
    "@next_instruction_decorator\n",
    "def instr_add(instr_data):\n",
    "    source_a, source_b, dest = break_instr_arithmetic(instr_data)\n",
    "    registers[dest] = registers[source_a] + registers[source_b]\n",
    "    print(f'\\tR{dest} = R{source_a} + R{source_b}')"
   ]
  },
  {
   "cell_type": "markdown",
   "metadata": {},
   "source": [
    "Em seguida o SUB, que salva o resultado do registrador A - o registrador B no registrador de destino"
   ]
  },
  {
   "cell_type": "code",
   "execution_count": 15,
   "metadata": {},
   "outputs": [],
   "source": [
    "@next_instruction_decorator\n",
    "def instr_sub(instr_data):\n",
    "    source_a, source_b, dest = break_instr_arithmetic(instr_data)\n",
    "    registers[dest] = registers[source_a] - registers[source_b]\n",
    "    print(f'\\tR{dest} = R{source_a} - R{source_b}')"
   ]
  },
  {
   "cell_type": "markdown",
   "metadata": {},
   "source": [
    "Então o LOAD, que carrega um valor da memória para um registrador"
   ]
  },
  {
   "cell_type": "code",
   "execution_count": 16,
   "metadata": {},
   "outputs": [],
   "source": [
    "@next_instruction_decorator\n",
    "def instr_load(instr_data):\n",
    "    dest_reg, source_mem = break_instr_memory_manip(instr_data)\n",
    "    print(f'\\tR{dest_reg} = M{source_mem}')\n",
    "    registers[dest_reg] = cache.fetch_data(source_mem)"
   ]
  },
  {
   "cell_type": "markdown",
   "metadata": {},
   "source": [
    "STORE, que salva o valor de um registrador na memória"
   ]
  },
  {
   "cell_type": "code",
   "execution_count": 17,
   "metadata": {},
   "outputs": [],
   "source": [
    "@next_instruction_decorator\n",
    "def instr_store(instr_data):\n",
    "    source_reg, dest_mem = break_instr_memory_manip(instr_data)\n",
    "    print(f'\\tM{dest_mem} = R{source_reg}')\n",
    "    cache.set_data(dest_mem, registers[source_reg])"
   ]
  },
  {
   "cell_type": "markdown",
   "metadata": {},
   "source": [
    "SET, que guarda um valor imediato no registrador de destino"
   ]
  },
  {
   "cell_type": "code",
   "execution_count": 18,
   "metadata": {},
   "outputs": [],
   "source": [
    "@next_instruction_decorator\n",
    "def instr_set(instr_data):\n",
    "    source_reg, raw_value = break_instr_memory_manip(instr_data)\n",
    "    registers[source_reg] = raw_value\n",
    "    print(f'\\tR{source_reg} = {raw_value}')"
   ]
  },
  {
   "cell_type": "markdown",
   "metadata": {},
   "source": [
    "E EXIT, que fecha o programa enviando um código de saída definido pelo programa"
   ]
  },
  {
   "cell_type": "code",
   "execution_count": 19,
   "metadata": {},
   "outputs": [],
   "source": [
    "@next_instruction_decorator\n",
    "def instr_exit(instr_data):\n",
    "    _, raw_value = break_instr_memory_manip(instr_data)\n",
    "    print('\\tThe End')\n",
    "    exit(raw_value)"
   ]
  },
  {
   "cell_type": "markdown",
   "metadata": {},
   "source": [
    "Agora que já estão definidas as funções da máquina virtual, podemos mapear as operações aos nomes.<br>\n",
    "Usaremos um dicionário para o mapeamento:"
   ]
  },
  {
   "cell_type": "code",
   "execution_count": 20,
   "metadata": {},
   "outputs": [],
   "source": [
    "instruction_map = {'add'   : instr_add,\n",
    "                   'sub'   : instr_sub,\n",
    "                   'store' : instr_store,\n",
    "                   'load'  : instr_load,\n",
    "                   'set'   : instr_set,\n",
    "                   'exit'  : instr_exit}"
   ]
  },
  {
   "cell_type": "markdown",
   "metadata": {},
   "source": [
    "<br><br>\n",
    "## Decodificação\n",
    "Função para decodificar as instruções"
   ]
  },
  {
   "cell_type": "code",
   "execution_count": 21,
   "metadata": {},
   "outputs": [],
   "source": [
    "def decode(instruction):\n",
    "    print('\\n\\nDecoding', ''.join([ instruction[i*4 : i*4 + 4].to01() for i in range(len(instruction)//4) ]) )\n",
    "    \n",
    "    instr = instruction[:op_size]\n",
    "    fill_bitarray(instr)\n",
    "    instr = bitarray_to_int(instr)\n",
    "    instr = code_to_instr[instr]\n",
    "    print('instruction: ', instr)\n",
    "    \n",
    "    instr_data = instruction[op_size:]\n",
    "    print('data: ', instr_data.to01())\n",
    "    \n",
    "    return instruction_map.get(instr, exit)(instr_data)"
   ]
  },
  {
   "cell_type": "markdown",
   "metadata": {},
   "source": [
    "<br><br>\n",
    "## Geração de arquivo para testes\n",
    "Aqui definimos uma função para \"compilar\" um programa teste para um arquivo"
   ]
  },
  {
   "cell_type": "code",
   "execution_count": 22,
   "metadata": {},
   "outputs": [],
   "source": [
    "def generate_example_file(file_p):\n",
    "    ex_instructions = [\n",
    "        ['set',   [0, 6]],     # r0 = 6\n",
    "        ['set',   [1, 9]],     # r1 = 9\n",
    "        ['add',   [0, 1, 2]],  # r2 = r0 + r1\n",
    "        ['add',   [2, 2, 2]],  # r2 *= 2\n",
    "        ['sub',   [2, 1, 3]],  # r3 = r2 - r1\n",
    "        ['store', [3, 16]],     # m8 = r3       --> miss -> update -> set -> now dirty\n",
    "        ['store', [3, 0]],     # m0 = r3        --> miss -> dirty -> flush -> update -> set -> now dirty\n",
    "        ['load',  [4, 0]],     # r4 = m0        --> hit\n",
    "        ['load',  [5, 16]],     # r5 = m8       --> miss -> dirty -> flush -> update \n",
    "        ['store', [0, 16]],     # m16 = r0      --> hit -> set -> now dirty\n",
    "        ['add',   [4, 1, 0]]]  # r0 = r4 + r1\n",
    "    \n",
    "    ex_instructions_s = []\n",
    "    print('Arquivo gerado:')\n",
    "    for count, i in enumerate(ex_instructions):\n",
    "        instr = bin(instr_to_code[i[0]])[2:].rjust(op_size, '0')\n",
    "        if len(i[1]) == 2:\n",
    "            instr += bin(i[1][0])[2:].rjust(4, '0')\n",
    "            instr += bin(i[1][1])[2:].rjust(8, '0')\n",
    "            \n",
    "        elif len(i[1]) == 3:\n",
    "            instr += bin(i[1][0])[2:].rjust(4, '0')\n",
    "            instr += bin(i[1][1])[2:].rjust(4, '0')\n",
    "            instr += bin(i[1][2])[2:].rjust(4, '0')\n",
    "            \n",
    "        ex_instructions_s.append(instr)\n",
    "        print(count, '-', instr)\n",
    "    \n",
    "    convert_to_bytes = lambda s: int(s, 2).to_bytes(len(s) // 8, byteorder='big')\n",
    "    with open(file_p, 'wb') as fh:\n",
    "        for i in ex_instructions_s:\n",
    "            fh.write(convert_to_bytes(i))"
   ]
  },
  {
   "cell_type": "markdown",
   "metadata": {},
   "source": [
    "<br><br>\n",
    "## Leitura do arquivo\n",
    "Entrada do nome do arquivo:"
   ]
  },
  {
   "cell_type": "code",
   "execution_count": 23,
   "metadata": {},
   "outputs": [
    {
     "name": "stdout",
     "output_type": "stream",
     "text": [
      "File: exemplo.bin\n"
     ]
    }
   ],
   "source": [
    "file_path = None\n",
    "if file_path is None:\n",
    "    file_path = input('File: ')\n",
    "    if file_path == '':\n",
    "        file_path = 'exemplo.bin'"
   ]
  },
  {
   "cell_type": "markdown",
   "metadata": {},
   "source": [
    "Se o arquivo não existe, geraremos nosso exemplo"
   ]
  },
  {
   "cell_type": "code",
   "execution_count": 24,
   "metadata": {},
   "outputs": [
    {
     "name": "stdout",
     "output_type": "stream",
     "text": [
      "Arquivo gerado:\n",
      "0 - 0101000000000110\n",
      "1 - 0101000100001001\n",
      "2 - 0001000000010010\n",
      "3 - 0001001000100010\n",
      "4 - 0010001000010011\n",
      "5 - 0011001100010000\n",
      "6 - 0011001100000000\n",
      "7 - 0100010000000000\n",
      "8 - 0100010100010000\n",
      "9 - 0011000000010000\n",
      "10 - 0001010000010000\n"
     ]
    }
   ],
   "source": [
    "from os import path\n",
    "if not path.isfile(file_path):\n",
    "    generate_example_file(file_path)"
   ]
  },
  {
   "cell_type": "markdown",
   "metadata": {},
   "source": [
    "O arquivo então é lido"
   ]
  },
  {
   "cell_type": "code",
   "execution_count": 25,
   "metadata": {},
   "outputs": [],
   "source": [
    "def read_instructions(file_path):\n",
    "    with open(file_path, 'rb') as f:\n",
    "        return f.read()"
   ]
  },
  {
   "cell_type": "markdown",
   "metadata": {},
   "source": [
    "E separado em instruções"
   ]
  },
  {
   "cell_type": "code",
   "execution_count": 26,
   "metadata": {},
   "outputs": [
    {
     "name": "stdout",
     "output_type": "stream",
     "text": [
      "instructions: 11\n"
     ]
    }
   ],
   "source": [
    "program_bytes = read_instructions(file_path)\n",
    "instructions = bitarray(endian='big')\n",
    "instructions.frombytes(program_bytes)\n",
    "instruction_count = len(instructions) // architecture\n",
    "instructions = [instructions[i * (architecture) : (i + 1) * (architecture)] for i in range(instruction_count)]\n",
    "print('instructions:', len(instructions))"
   ]
  },
  {
   "cell_type": "markdown",
   "metadata": {},
   "source": [
    "<h1>cache</h1>"
   ]
  },
  {
   "cell_type": "markdown",
   "metadata": {},
   "source": [
    "Definimos como é uma linha de nossa cache, com tag, validação, indicador de mudanças e words"
   ]
  },
  {
   "cell_type": "code",
   "execution_count": 27,
   "metadata": {},
   "outputs": [],
   "source": [
    "class CacheLine:\n",
    "    def __init__(self, words_per_line):\n",
    "        self.words_per_line = words_per_line\n",
    "        self.is_valid = False\n",
    "        self.tag = 0\n",
    "        self.is_dirty = True\n",
    "        self.words = [0] * words_per_line"
   ]
  },
  {
   "cell_type": "markdown",
   "metadata": {},
   "source": [
    "E criamos a cache, que possui linhas e atributos ajudantes"
   ]
  },
  {
   "cell_type": "code",
   "execution_count": 28,
   "metadata": {},
   "outputs": [],
   "source": [
    "class Cache:\n",
    "    def __init__(self, words_per_line, line_count):\n",
    "        self.words_per_line = words_per_line\n",
    "        self.line_count = line_count\n",
    "        self.lines = [CacheLine(words_per_line) for i in range(line_count)]\n",
    "        \n",
    "        import math\n",
    "        self.offset_bit_count = int(math.log(words_per_line, 2))\n",
    "        self.line_bit_count = int(math.log(line_count, 2))"
   ]
  },
  {
   "cell_type": "markdown",
   "metadata": {},
   "source": [
    "Adicionamos uma função para copiar os dados modificados da cache para a memória principal"
   ]
  },
  {
   "cell_type": "code",
   "execution_count": 29,
   "metadata": {},
   "outputs": [],
   "source": [
    "def _CacheLine_flush(self, base):\n",
    "    for i, word in enumerate(self.words):\n",
    "        program_memory[base + i] = word\n",
    "        \n",
    "    self.is_dirty = False\n",
    "    print('Cache line flushed')\n",
    "    \n",
    "CacheLine.flush = _CacheLine_flush"
   ]
  },
  {
   "cell_type": "markdown",
   "metadata": {},
   "source": [
    "Funções para atualizar a cache com a memória principal copiando da segunda para a primeira"
   ]
  },
  {
   "cell_type": "code",
   "execution_count": 30,
   "metadata": {},
   "outputs": [],
   "source": [
    "def _CacheLine_update(self, tag, base):\n",
    "    for i in range(self.words_per_line):\n",
    "        self.words[i] = program_memory[base + i]\n",
    "        \n",
    "    self.is_valid = True\n",
    "    self.is_dirty = False\n",
    "    self.tag = tag\n",
    "    print('Cache line updated')\n",
    "    \n",
    "    \n",
    "CacheLine.update = _CacheLine_update\n",
    "        \n",
    "        \n",
    "def _Cache_update_line(self, tag, line_number):\n",
    "    base = ((tag << self.offset_bit_count) + line_number) << self.line_bit_count\n",
    "    self.lines[line_number].update(tag, base)\n",
    "        \n",
    "        \n",
    "Cache.update_line = _Cache_update_line"
   ]
  },
  {
   "cell_type": "markdown",
   "metadata": {},
   "source": [
    "E então as funções principais, uma para buscar dados da cache"
   ]
  },
  {
   "cell_type": "code",
   "execution_count": 31,
   "metadata": {},
   "outputs": [],
   "source": [
    "def _Cache_fetch_data(self, address):\n",
    "    word_number = address & self.offset_bit_count\n",
    "    line_number = (address >> self.offset_bit_count) & (2**self.line_bit_count - 1)\n",
    "    desired_tag = address >> (self.line_bit_count + self.offset_bit_count)\n",
    "    print('tag:', desired_tag, 'line:', line_number, 'word:', word_number)\n",
    "    target_line = self.lines[line_number]\n",
    "    \n",
    "    fetch_from_memory = False\n",
    "    if target_line.is_valid:\n",
    "        # may be a hit..\n",
    "        if target_line.tag != desired_tag:\n",
    "            # miss :(\n",
    "            fetch_from_memory = True\n",
    "            if target_line.is_dirty:\n",
    "                # flush before repopulate\n",
    "                base = ((target_line.tag << self.offset_bit_count) + line_number) << self.line_bit_count\n",
    "                target_line.flush(base)\n",
    "    \n",
    "    else:\n",
    "        # miss, repopulate\n",
    "        fetch_from_memory = True\n",
    "        \n",
    "    if fetch_from_memory:\n",
    "        self.update_line(desired_tag, line_number)\n",
    "    else:\n",
    "        print('hit')\n",
    "        \n",
    "        \n",
    "    return self.lines[line_number].words[word_number]\n",
    "    \n",
    "    \n",
    "Cache.fetch_data = _Cache_fetch_data"
   ]
  },
  {
   "cell_type": "markdown",
   "metadata": {},
   "source": [
    "E uma para setar dados da cache"
   ]
  },
  {
   "cell_type": "code",
   "execution_count": 32,
   "metadata": {},
   "outputs": [],
   "source": [
    "def _Cache_set_data(self, address, value):\n",
    "    word_number = address & self.offset_bit_count\n",
    "    line_number = (address >> self.offset_bit_count) & (2**self.line_bit_count - 1)\n",
    "    desired_tag = address >> (self.line_bit_count + self.offset_bit_count)\n",
    "    print('tag:', desired_tag, 'line:', line_number, 'word:', word_number)\n",
    "    target_line = self.lines[line_number]\n",
    "    \n",
    "    fetch_from_memory = False\n",
    "    if target_line.is_valid:\n",
    "        if target_line.is_dirty:\n",
    "            base = ((target_line.tag << self.offset_bit_count) + line_number) << self.line_bit_count\n",
    "            target_line.flush(base)\n",
    "            \n",
    "        if target_line.tag != desired_tag:\n",
    "            fetch_from_memory = True\n",
    "    \n",
    "    else:\n",
    "        # miss, repopulate\n",
    "        fetch_from_memory = True\n",
    "        \n",
    "    if fetch_from_memory:\n",
    "        self.update_line(desired_tag, line_number)\n",
    "        \n",
    "    print('value set')\n",
    "    target_line.words[word_number] = value\n",
    "    target_line.is_dirty = True\n",
    "        \n",
    "Cache.set_data = _Cache_set_data"
   ]
  },
  {
   "cell_type": "markdown",
   "metadata": {},
   "source": [
    "E finalmente criamos nossa cache, com 4 palavras por linha e 4 linhas, totalizando 32 bytes\n",
    "\n",
    "Tag:<br/>\n",
    "`[tag (12 bits)] | [linha (2 bits)] | [palavra (2 bits)]`"
   ]
  },
  {
   "cell_type": "code",
   "execution_count": 33,
   "metadata": {},
   "outputs": [],
   "source": [
    "cache = Cache(words_per_line = 4, line_count = 4)"
   ]
  },
  {
   "cell_type": "markdown",
   "metadata": {},
   "source": [
    "<br><br>\n",
    "## Programa rodando\n",
    "Aqui que a mágica começa, finalmente. As instruções então são executadas uma a uma até que seja encontrado um pulo (não implementado nesta versão)"
   ]
  },
  {
   "cell_type": "code",
   "execution_count": 34,
   "metadata": {},
   "outputs": [
    {
     "name": "stdout",
     "output_type": "stream",
     "text": [
      "\n",
      "\n",
      "Decoding 0101000000000110\n",
      "instruction:  set\n",
      "data:  000000000110\n",
      "\tR0 = 6\n",
      "\n",
      "\n",
      "Decoding 0101000100001001\n",
      "instruction:  set\n",
      "data:  000100001001\n",
      "\tR1 = 9\n",
      "\n",
      "\n",
      "Decoding 0001000000010010\n",
      "instruction:  add\n",
      "data:  000000010010\n",
      "\tR2 = R0 + R1\n",
      "\n",
      "\n",
      "Decoding 0001001000100010\n",
      "instruction:  add\n",
      "data:  001000100010\n",
      "\tR2 = R2 + R2\n",
      "\n",
      "\n",
      "Decoding 0010001000010011\n",
      "instruction:  sub\n",
      "data:  001000010011\n",
      "\tR3 = R2 - R1\n",
      "\n",
      "\n",
      "Decoding 0011001100010000\n",
      "instruction:  store\n",
      "data:  001100010000\n",
      "\tM16 = R3\n",
      "tag: 1 line: 0 word: 0\n",
      "Cache line updated\n",
      "value set\n",
      "\n",
      "\n",
      "Decoding 0011001100000000\n",
      "instruction:  store\n",
      "data:  001100000000\n",
      "\tM0 = R3\n",
      "tag: 0 line: 0 word: 0\n",
      "Cache line flushed\n",
      "Cache line updated\n",
      "value set\n",
      "\n",
      "\n",
      "Decoding 0100010000000000\n",
      "instruction:  load\n",
      "data:  010000000000\n",
      "\tR4 = M0\n",
      "tag: 0 line: 0 word: 0\n",
      "hit\n",
      "\n",
      "\n",
      "Decoding 0100010100010000\n",
      "instruction:  load\n",
      "data:  010100010000\n",
      "\tR5 = M16\n",
      "tag: 1 line: 0 word: 0\n",
      "Cache line flushed\n",
      "Cache line updated\n",
      "\n",
      "\n",
      "Decoding 0011000000010000\n",
      "instruction:  store\n",
      "data:  000000010000\n",
      "\tM16 = R0\n",
      "tag: 1 line: 0 word: 0\n",
      "value set\n",
      "\n",
      "\n",
      "Decoding 0001010000010000\n",
      "instruction:  add\n",
      "data:  010000010000\n",
      "\tR0 = R4 + R1\n"
     ]
    }
   ],
   "source": [
    "while pc < instruction_count:\n",
    "    pc = decode(instructions[pc])"
   ]
  },
  {
   "cell_type": "markdown",
   "metadata": {},
   "source": [
    "<br/><br/>\n",
    "E após o término da execução, podemos sair"
   ]
  },
  {
   "cell_type": "code",
   "execution_count": 35,
   "metadata": {},
   "outputs": [
    {
     "name": "stdout",
     "output_type": "stream",
     "text": [
      "End of execution\n"
     ]
    }
   ],
   "source": [
    "print('End of execution')\n",
    "exit(0)"
   ]
  }
 ],
 "metadata": {
  "kernelspec": {
   "display_name": "Python 3",
   "language": "python",
   "name": "python3"
  },
  "language_info": {
   "codemirror_mode": {
    "name": "ipython",
    "version": 3
   },
   "file_extension": ".py",
   "mimetype": "text/x-python",
   "name": "python",
   "nbconvert_exporter": "python",
   "pygments_lexer": "ipython3",
   "version": "3.6.6"
  }
 },
 "nbformat": 4,
 "nbformat_minor": 2
}
